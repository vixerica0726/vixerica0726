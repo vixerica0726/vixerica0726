{
  "nbformat": 4,
  "nbformat_minor": 0,
  "metadata": {
    "colab": {
      "provenance": [],
      "authorship_tag": "ABX9TyNE4RYVRFSkKH5UNIzwi/7x",
      "include_colab_link": true
    },
    "kernelspec": {
      "name": "python3",
      "display_name": "Python 3"
    },
    "language_info": {
      "name": "python"
    }
  },
  "cells": [
    {
      "cell_type": "markdown",
      "metadata": {
        "id": "view-in-github",
        "colab_type": "text"
      },
      "source": [
        "<a href=\"https://colab.research.google.com/github/vixerica0726/vixerica0726/blob/main/desafio02.ipynb\" target=\"_parent\"><img src=\"https://colab.research.google.com/assets/colab-badge.svg\" alt=\"Open In Colab\"/></a>"
      ]
    },
    {
      "cell_type": "code",
      "source": [
        "!pip install pydataset"
      ],
      "metadata": {
        "colab": {
          "base_uri": "https://localhost:8080/"
        },
        "id": "t-CaYH1DTNxI",
        "outputId": "17f4c2c4-1583-4893-b3e7-1ea3e65bc21a"
      },
      "execution_count": 2,
      "outputs": [
        {
          "output_type": "stream",
          "name": "stdout",
          "text": [
            "Collecting pydataset\n",
            "  Downloading pydataset-0.2.0.tar.gz (15.9 MB)\n",
            "\u001b[2K     \u001b[90m━━━━━━━━━━━━━━━━━━━━━━━━━━━━━━━━━━━━━━━━\u001b[0m \u001b[32m15.9/15.9 MB\u001b[0m \u001b[31m70.0 MB/s\u001b[0m eta \u001b[36m0:00:00\u001b[0m\n",
            "\u001b[?25h  Preparing metadata (setup.py) ... \u001b[?25l\u001b[?25hdone\n",
            "Requirement already satisfied: pandas in /usr/local/lib/python3.11/dist-packages (from pydataset) (2.2.2)\n",
            "Requirement already satisfied: numpy>=1.23.2 in /usr/local/lib/python3.11/dist-packages (from pandas->pydataset) (1.26.4)\n",
            "Requirement already satisfied: python-dateutil>=2.8.2 in /usr/local/lib/python3.11/dist-packages (from pandas->pydataset) (2.8.2)\n",
            "Requirement already satisfied: pytz>=2020.1 in /usr/local/lib/python3.11/dist-packages (from pandas->pydataset) (2025.1)\n",
            "Requirement already satisfied: tzdata>=2022.7 in /usr/local/lib/python3.11/dist-packages (from pandas->pydataset) (2025.1)\n",
            "Requirement already satisfied: six>=1.5 in /usr/local/lib/python3.11/dist-packages (from python-dateutil>=2.8.2->pandas->pydataset) (1.17.0)\n",
            "Building wheels for collected packages: pydataset\n",
            "  Building wheel for pydataset (setup.py) ... \u001b[?25l\u001b[?25hdone\n",
            "  Created wheel for pydataset: filename=pydataset-0.2.0-py3-none-any.whl size=15939417 sha256=3380d7511b71ce38c8a3e79ef6adc99d00f9b994eaacf0adceeaa0deb8c22311\n",
            "  Stored in directory: /root/.cache/pip/wheels/29/93/3f/af54c413cecaac292940342c61882d2a8848674175d0bb0889\n",
            "Successfully built pydataset\n",
            "Installing collected packages: pydataset\n",
            "Successfully installed pydataset-0.2.0\n"
          ]
        }
      ]
    },
    {
      "cell_type": "code",
      "execution_count": 3,
      "metadata": {
        "colab": {
          "base_uri": "https://localhost:8080/"
        },
        "id": "9PeIH7NvStu9",
        "outputId": "c2298ceb-5ff5-4eea-b1a9-b0ca565d3414"
      },
      "outputs": [
        {
          "output_type": "stream",
          "name": "stdout",
          "text": [
            "initiated datasets repo at: /root/.pydataset/\n"
          ]
        }
      ],
      "source": [
        "import pandas as pd\n",
        "from pydataset import data\n",
        "\n",
        "# Carregar o dataset PlantGrowth\n",
        "dataFrame = data('PlantGrowth')\n"
      ]
    },
    {
      "cell_type": "code",
      "source": [
        "# Calcular a média do peso para cada grupo\n",
        "mediaPeso = dataFrame.groupby('group')['weight'].mean() # groupby agrupa os dados com base em uma ou mais colunas  e mean calcula a média\n",
        "print(\"Média do peso por grupo:\")\n",
        "print(mediaPeso)\n",
        "\n",
        "\n",
        "# Grupos que o atributo groupby separou\n",
        "# ctrl == grupo de controle (Sem tratamento)\n",
        "# trt1 == grupo que recebeu o tratamento 1\n",
        "# trt1 == grupo que recebeu o tratamento 2"
      ],
      "metadata": {
        "colab": {
          "base_uri": "https://localhost:8080/"
        },
        "id": "T7JXgi5IS5eN",
        "outputId": "4302514d-0e08-4c9c-cce5-6f810a318fca"
      },
      "execution_count": 4,
      "outputs": [
        {
          "output_type": "stream",
          "name": "stdout",
          "text": [
            "Média do peso por grupo:\n",
            "group\n",
            "ctrl    5.032\n",
            "trt1    4.661\n",
            "trt2    5.526\n",
            "Name: weight, dtype: float64\n"
          ]
        }
      ]
    },
    {
      "cell_type": "code",
      "source": [
        "\n",
        "# Verificar se algum grupo tem peso médio maior que 6\n",
        "gruposMaior6 = mediaPeso[mediaPeso > 6]\n",
        "print(\"\\nGrupos com peso médio maior que 6:\")\n",
        "print(gruposMaior6)\n",
        "if gruposMaior6.empty:\n",
        "    print(\"Nenhum grupo tem peso médio maior que 6.\")\n",
        "else:\n",
        "    print(\"Grupos com peso médio maior que 6:\")\n",
        "    print(gruposMaior6)"
      ],
      "metadata": {
        "colab": {
          "base_uri": "https://localhost:8080/"
        },
        "id": "lhY6-uc6S_h7",
        "outputId": "ae9a9527-84a7-40b9-9ccb-e944a82d27a7"
      },
      "execution_count": 7,
      "outputs": [
        {
          "output_type": "stream",
          "name": "stdout",
          "text": [
            "\n",
            "Grupos com peso médio maior que 6:\n",
            "Series([], Name: weight, dtype: float64)\n",
            "Nenhum grupo tem peso médio maior que 6.\n"
          ]
        }
      ]
    },
    {
      "cell_type": "code",
      "source": [
        "\n",
        "# Calcular o peso máximo e mínimo por grupo\n",
        "pesoMaxMin = dataFrame.groupby('group')['weight'].agg(['max', 'min']) # agg calcula o máximo e o mínimo dentro de cada grupo\n",
        "print(\"\\nPeso máximo e mínimo por grupo:\")\n",
        "print(pesoMaxMin)"
      ],
      "metadata": {
        "colab": {
          "base_uri": "https://localhost:8080/"
        },
        "id": "GxSNJTZATC25",
        "outputId": "969587cc-8ec7-4655-ca88-780760af5d75"
      },
      "execution_count": 6,
      "outputs": [
        {
          "output_type": "stream",
          "name": "stdout",
          "text": [
            "\n",
            "Peso máximo e mínimo por grupo:\n",
            "        max   min\n",
            "group            \n",
            "ctrl   6.11  4.17\n",
            "trt1   6.03  3.59\n",
            "trt2   6.31  4.92\n"
          ]
        }
      ]
    }
  ]
}